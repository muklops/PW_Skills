{
 "cells": [
  {
   "cell_type": "code",
   "execution_count": 1,
   "id": "e5bee1dc-28dc-40a6-ac05-d1275942b905",
   "metadata": {},
   "outputs": [],
   "source": [
    "#Q1. Create one variable containing following type of data:\n",
    "\n",
    "\n",
    "a= \"Mukesh\"\n",
    "b=[\"Kumar\",2,6.89,6+7j,-34]\n",
    "c= 7.897\n",
    "d=(56,79.09,\"Kumar\")"
   ]
  },
  {
   "cell_type": "code",
   "execution_count": null,
   "id": "91b965d6-7b29-4fb8-92ec-fb22bef5b646",
   "metadata": {},
   "outputs": [],
   "source": [
    "#Q2. Given are some following variables containing data:\n",
    "\n",
    "(i) var1 = ‘ ‘\n",
    "\n",
    "(ii) var2 = ‘[ DS , ML , Python]’\n",
    "\n",
    "(iii) var3 = [ ‘DS’ , ’ML’ , ‘Python’ ]\n",
    "\n",
    "(iv) var4 = 1.\n",
    "\n",
    "Ans- 1- String\n",
    "2- String\n",
    "3-List\n",
    "4- Float"
   ]
  },
  {
   "cell_type": "code",
   "execution_count": null,
   "id": "324741ca-5ecb-4bb0-845b-2b10ebe41897",
   "metadata": {},
   "outputs": [],
   "source": [
    "#Q3. Explain the use of the following operators using an example:\n",
    "1- /- This will divide the numerator with denominator and gives the ans as is- with out rounding off.\n",
    "eg- 5/1000= 0.005\n",
    "\n",
    "2- %- Modulus will only returns division part and not the reminder eg- 3/2=1\n",
    "\n",
    "3- //- this operator will give the floor value result of any division eg- 5//2=2\n",
    "4- ** this will return root of any number 2**3=8"
   ]
  },
  {
   "cell_type": "code",
   "execution_count": 7,
   "id": "720d1234-e001-48e8-b80e-fdf154dfa376",
   "metadata": {},
   "outputs": [
    {
     "name": "stdout",
     "output_type": "stream",
     "text": [
      "2\n",
      "Data Type is <class 'int'>\n",
      "4\n",
      "Data Type is <class 'int'>\n",
      "55.7\n",
      "Data Type is <class 'float'>\n",
      "PW\n",
      "Data Type is <class 'str'>\n",
      "(4+9j)\n",
      "Data Type is <class 'complex'>\n",
      "5\n",
      "Data Type is <class 'int'>\n",
      "YU\n",
      "Data Type is <class 'str'>\n",
      "Joda\n",
      "Data Type is <class 'str'>\n",
      "788\n",
      "Data Type is <class 'int'>\n",
      "90.09\n",
      "Data Type is <class 'float'>\n"
     ]
    }
   ],
   "source": [
    "#4-Create a list of length 10 of your choice containing multiple types of data. Using for loop print the element and its data type.\n",
    "L= [2,4,55.7,\"PW\",4+9j,5,\"YU\",\"Joda\",788,90.09]\n",
    "for i in L:\n",
    "    print(i)\n",
    "    print(f\"Data Type is {type(i)}\")\n",
    "\n",
    "        \n"
   ]
  },
  {
   "cell_type": "code",
   "execution_count": null,
   "id": "df88e5e7-09c7-4fa7-b063-7ee9441b38bb",
   "metadata": {},
   "outputs": [],
   "source": [
    "#Q5. Using a while loop, verify if the number A is purely divisible by number B and if so then how many times it can be divisible.\n",
    "A= int(input(\"First Number\"))\n",
    "B=int(input(\"Second Number\"))\n",
    "i=0\n",
    "while A%B==0:\n",
    "      A=A/B\n",
    "      i=i+1\n",
    "if i>0:\n",
    "    print(f\"A can be divided by B for {i} times\")\n",
    "else:\n",
    "    print(\"Not Divisible\")\n"
   ]
  },
  {
   "cell_type": "code",
   "execution_count": 19,
   "id": "cba2248a-b47a-40ef-9872-36d8785c5010",
   "metadata": {},
   "outputs": [
    {
     "name": "stdout",
     "output_type": "stream",
     "text": [
      "4 Not Divisbile\n",
      "3 is divisible by 3\n",
      "9 is divisible by 3\n",
      "5 Not Divisbile\n",
      "6 is divisible by 3\n",
      "15 is divisible by 3\n",
      "10 Not Divisbile\n",
      "33 is divisible by 3\n",
      "89 Not Divisbile\n",
      "90 is divisible by 3\n",
      "99 is divisible by 3\n",
      "76 Not Divisbile\n",
      "18 is divisible by 3\n",
      "27 is divisible by 3\n",
      "24 is divisible by 3\n",
      "39 is divisible by 3\n",
      "21 is divisible by 3\n",
      "78 is divisible by 3\n",
      "9 is divisible by 3\n",
      "30 is divisible by 3\n",
      "1 Not Divisbile\n",
      "67 Not Divisbile\n",
      "6 is divisible by 3\n",
      "99 is divisible by 3\n",
      "100 Not Divisbile\n",
      "\n",
      "\tBhaiya Ji SMILE...\n"
     ]
    }
   ],
   "source": [
    "#Q6. Create a list containing 25 int type data. Using for loop and if-else condition print if the element is divisible by 3 or not.\n",
    "list=[4,3,9,5,6,15,10,33,89,90,99,76,18,27,24,39,21,78,9,30,1,67,6,99,100]\n",
    "for i in list:\n",
    "    if i%3==0:\n",
    "        print(f\"{i} is divisible by 3\")\n",
    "    else:\n",
    "        print(f\"{i} Not Divisbile\")\n",
    "print(\"\\n\\tBhaiya Ji SMILE...\")"
   ]
  },
  {
   "cell_type": "code",
   "execution_count": null,
   "id": "2494c4bc-7896-4fbf-8932-aafa85b86844",
   "metadata": {},
   "outputs": [],
   "source": [
    "#Q7. What do you understand about mutable and immutable data types? Give examples for both showing this property.\n",
    "\n",
    "Mutable- Means changable, Eg- in list data can be changed/Replaced. \n",
    "Immutable- Means we cannot replace/Chnage the data.\n",
    "A= [\"Rohit\",2,45]\n",
    "A[0]=\"Mukesh\"\n",
    "A"
   ]
  },
  {
   "cell_type": "code",
   "execution_count": 20,
   "id": "2d612e78-3523-4102-befc-5cd8879d0ba1",
   "metadata": {},
   "outputs": [],
   "source": [
    "A= [\"Rohit\",2,45]\n",
    "\n"
   ]
  },
  {
   "cell_type": "code",
   "execution_count": 21,
   "id": "87ceabf8-5737-4526-8211-49b5f45c05d0",
   "metadata": {},
   "outputs": [],
   "source": [
    "A[0]=\"Mukesh\""
   ]
  },
  {
   "cell_type": "code",
   "execution_count": 22,
   "id": "03fe58a1-7fd2-4383-aecb-45da7e58c05c",
   "metadata": {},
   "outputs": [
    {
     "data": {
      "text/plain": [
       "['Mukesh', 2, 45]"
      ]
     },
     "execution_count": 22,
     "metadata": {},
     "output_type": "execute_result"
    }
   ],
   "source": [
    "A"
   ]
  },
  {
   "cell_type": "code",
   "execution_count": 24,
   "id": "7ac9df72-f400-4b3b-a4fc-884fb7f591f4",
   "metadata": {},
   "outputs": [
    {
     "name": "stdout",
     "output_type": "stream",
     "text": [
      "2 0\n"
     ]
    }
   ],
   "source": [
    "a = 10\n",
    "\n",
    "b = 5\n",
    "\n",
    "c = a // b\n",
    "\n",
    "d = a % b\n",
    "\n",
    "print(c, d)"
   ]
  },
  {
   "cell_type": "code",
   "execution_count": null,
   "id": "3c38687e-eda2-4249-aff8-2082a6372db5",
   "metadata": {},
   "outputs": [],
   "source": []
  }
 ],
 "metadata": {
  "kernelspec": {
   "display_name": "Python 3 (ipykernel)",
   "language": "python",
   "name": "python3"
  },
  "language_info": {
   "codemirror_mode": {
    "name": "ipython",
    "version": 3
   },
   "file_extension": ".py",
   "mimetype": "text/x-python",
   "name": "python",
   "nbconvert_exporter": "python",
   "pygments_lexer": "ipython3",
   "version": "3.10.8"
  }
 },
 "nbformat": 4,
 "nbformat_minor": 5
}
