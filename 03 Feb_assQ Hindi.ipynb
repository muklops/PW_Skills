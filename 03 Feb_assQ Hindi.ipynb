{
 "cells": [
  {
   "cell_type": "code",
   "execution_count": 10,
   "id": "89a2be37-8638-44f6-8c4d-9be5de561b8b",
   "metadata": {},
   "outputs": [],
   "source": [
    "#Q1. Which keyword is used to create a function? Create a function to return a list of odd numbers in the \n",
    "#range of 1 to 25.\n",
    "# Def key word is used to create function.\n",
    "def odd():\n",
    "    l1= []\n",
    "    for i in range(1,26):\n",
    "        if i % 2 !=0:\n",
    "            l1.append(i)\n",
    "    return l1\n",
    "            \n",
    "        \n",
    "        \n",
    "    "
   ]
  },
  {
   "cell_type": "code",
   "execution_count": 11,
   "id": "c40c89b1-6941-42e4-9e77-8d203d546d13",
   "metadata": {},
   "outputs": [
    {
     "data": {
      "text/plain": [
       "[1, 3, 5, 7, 9, 11, 13, 15, 17, 19, 21, 23, 25]"
      ]
     },
     "execution_count": 11,
     "metadata": {},
     "output_type": "execute_result"
    }
   ],
   "source": [
    "odd()"
   ]
  },
  {
   "cell_type": "markdown",
   "id": "b26eeef0-3b01-4256-a1ac-21accb2d533e",
   "metadata": {},
   "source": [
    "#Q2. Why *args and **kwargs is used in some functions? Create a function each for *args and **kwargs\n",
    "#to demonstrate their use.\n",
    "*args is used to input multiple parameters and **kwargs is used to input key:value pair data.\n"
   ]
  },
  {
   "cell_type": "code",
   "execution_count": 12,
   "id": "9a0c6a6c-0bed-4949-8774-7f9c831d937a",
   "metadata": {},
   "outputs": [],
   "source": [
    "def test1(*args):\n",
    "    return args"
   ]
  },
  {
   "cell_type": "code",
   "execution_count": 14,
   "id": "53381e40-a1f2-4704-9355-03e3a47a11df",
   "metadata": {},
   "outputs": [
    {
     "data": {
      "text/plain": [
       "['mk', 5, 67.89, (4+8j)]"
      ]
     },
     "execution_count": 14,
     "metadata": {},
     "output_type": "execute_result"
    }
   ],
   "source": [
    "list(test1(\"mk\",5,67.89,4+8j))"
   ]
  },
  {
   "cell_type": "code",
   "execution_count": 15,
   "id": "cf240368-8d47-445a-adb1-ca3f8229791a",
   "metadata": {},
   "outputs": [],
   "source": [
    "def test2(**kwargs):\n",
    "    return kwargs"
   ]
  },
  {
   "cell_type": "code",
   "execution_count": 21,
   "id": "fb12a4e8-b57a-4852-ad20-81d8307a9311",
   "metadata": {},
   "outputs": [
    {
     "data": {
      "text/plain": [
       "{'a': 2, 'b': 'muk', 'c': (4+9j)}"
      ]
     },
     "execution_count": 21,
     "metadata": {},
     "output_type": "execute_result"
    }
   ],
   "source": [
    "test2(a=2,b=\"muk\",c=4+9j)"
   ]
  },
  {
   "cell_type": "markdown",
   "id": "da173f48-854d-4205-9490-9c178c1ce203",
   "metadata": {},
   "source": [
    "Q3. What is an iterator in python? Name the method used to initialise the iterator object and the method\n",
    "used for iteration. Use these methods to print the first five elements of the given list [2, 4, 6, 8, 10, 12, 14,\n",
    "16, 18, 20]."
   ]
  },
  {
   "cell_type": "markdown",
   "id": "759dcdda-a9cc-4388-ba76-b704489726b9",
   "metadata": {},
   "source": [
    "iterator is object which allows iteration of elements.iter is the method used for iteration."
   ]
  },
  {
   "cell_type": "code",
   "execution_count": 52,
   "id": "dcc3a613-6d3c-432e-9cd8-fb11f9165a84",
   "metadata": {},
   "outputs": [
    {
     "data": {
      "text/plain": [
       "2"
      ]
     },
     "execution_count": 52,
     "metadata": {},
     "output_type": "execute_result"
    }
   ],
   "source": [
    "l1=[2, 4, 6, 8, 10, 12, 14,\n",
    "16, 18, 20]\n",
    "T=iter(l1)\n",
    "next(T)\n",
    "\n",
    "    \n",
    "    "
   ]
  },
  {
   "cell_type": "markdown",
   "id": "9d48fab1-e611-47b2-9e8a-175dba7868ee",
   "metadata": {},
   "source": [
    "Q4. What is a generator function in python? Why yield keyword is used? Give an example of a generator\n",
    "function."
   ]
  },
  {
   "cell_type": "code",
   "execution_count": 53,
   "id": "26de653a-8b2e-4437-9ed0-7ef547278e5f",
   "metadata": {},
   "outputs": [],
   "source": [
    "#Generatot function in python genertes elements and keep it aside for input in other fuctions. With this the performance and memory is optimized.\n",
    "# Yield keyword is used to generate number and keep aside for input to other function. It doesnot give any output.\n",
    "def test1(x,y):\n",
    "    z=x+y\n",
    "    yield z"
   ]
  },
  {
   "cell_type": "code",
   "execution_count": 55,
   "id": "0cb7290b-630b-4f50-a6a5-ad8e85ccfcef",
   "metadata": {},
   "outputs": [
    {
     "data": {
      "text/plain": [
       "[5]"
      ]
     },
     "execution_count": 55,
     "metadata": {},
     "output_type": "execute_result"
    }
   ],
   "source": [
    "list(test1(2,3))"
   ]
  },
  {
   "cell_type": "code",
   "execution_count": 5,
   "id": "5b8af69e-08b2-4dd9-af03-0ea6858e00e4",
   "metadata": {},
   "outputs": [],
   "source": [
    "def prime_no(n):\n",
    "    if n<2:\n",
    "        return False\n",
    "    for i in range(2,int(n**0.5)+1):\n",
    "        if n%i==0:\n",
    "            return False\n",
    "    return True"
   ]
  },
  {
   "cell_type": "code",
   "execution_count": 6,
   "id": "ea6948fb-9fb0-4e16-adc9-5446e5a4f1f1",
   "metadata": {},
   "outputs": [],
   "source": [
    "def prime_generator():\n",
    "    x=2\n",
    "    while x<1000:\n",
    "        if prime_no(x):\n",
    "            yield x\n",
    "        x +=1\n",
    "        "
   ]
  },
  {
   "cell_type": "code",
   "execution_count": 7,
   "id": "1eaeb9bd-4ea7-4b91-88dd-32f18998244c",
   "metadata": {},
   "outputs": [],
   "source": [
    "G = prime_generator()"
   ]
  },
  {
   "cell_type": "code",
   "execution_count": 8,
   "id": "64288ce1-83a9-4113-ae7e-ab9e605c0427",
   "metadata": {},
   "outputs": [
    {
     "name": "stdout",
     "output_type": "stream",
     "text": [
      "2\n",
      "3\n",
      "5\n",
      "7\n",
      "11\n",
      "13\n",
      "17\n",
      "19\n",
      "23\n",
      "29\n",
      "31\n",
      "37\n",
      "41\n",
      "43\n",
      "47\n",
      "53\n",
      "59\n",
      "61\n",
      "67\n",
      "71\n"
     ]
    }
   ],
   "source": [
    "for i in range(20):\n",
    "    prime=next(G)\n",
    "    print(prime)"
   ]
  },
  {
   "cell_type": "markdown",
   "id": "5da71ac4-8ac1-4862-8249-ab7aba2f4f4e",
   "metadata": {},
   "source": [
    "Q6. Write a python program to print the first 10 Fibonacci numbers using a while loop."
   ]
  },
  {
   "cell_type": "code",
   "execution_count": 2,
   "id": "6d3b77be-de1b-4b15-a6ab-472a341730f3",
   "metadata": {},
   "outputs": [
    {
     "name": "stdout",
     "output_type": "stream",
     "text": [
      "0\n",
      "1\n",
      "1\n",
      "2\n",
      "3\n",
      "5\n",
      "8\n",
      "13\n",
      "21\n",
      "34\n"
     ]
    }
   ],
   "source": [
    "a,b=0,1\n",
    "count=0\n",
    "while count<10:\n",
    "    print(a)\n",
    "    a,b=b,a+b\n",
    "    count=count+1\n"
   ]
  },
  {
   "cell_type": "markdown",
   "id": "c024f381-fdd1-4e05-9299-5fa03903b310",
   "metadata": {},
   "source": [
    "Q7. Write a List Comprehension to iterate through the given string: ‘pwskills’.\n",
    "\n",
    "Expected output: ['p', 'w', 's', 'k', 'i', 'l', 'l', 's'] "
   ]
  },
  {
   "cell_type": "code",
   "execution_count": 3,
   "id": "1239fbf1-d09f-436b-ab6b-ed729e81a062",
   "metadata": {},
   "outputs": [
    {
     "data": {
      "text/plain": [
       "['p', 'w', 's', 'k', 'i', 'l', 'l', 's']"
      ]
     },
     "execution_count": 3,
     "metadata": {},
     "output_type": "execute_result"
    }
   ],
   "source": [
    "T = \"pwskills\"\n",
    "list(iter(T))"
   ]
  },
  {
   "cell_type": "code",
   "execution_count": 5,
   "id": "92e6212f-7413-450c-ac41-95b5566eddc7",
   "metadata": {},
   "outputs": [
    {
     "name": "stdin",
     "output_type": "stream",
     "text": [
      "Enter a number:  33\n"
     ]
    },
    {
     "name": "stdout",
     "output_type": "stream",
     "text": [
      "33 is a palindrome.\n"
     ]
    }
   ],
   "source": [
    "def is_palindrome(number):\n",
    "    original_number = number\n",
    "    reversed_number = 0\n",
    "    \n",
    "    while number > 0:\n",
    "        # Extract the last digit of the number\n",
    "        digit = number % 10\n",
    "        \n",
    "        # Add the digit to the reversed number\n",
    "        reversed_number = (reversed_number * 10) + digit\n",
    "        \n",
    "        # Remove the last digit from the number\n",
    "        number = number // 10\n",
    "    \n",
    "    # Check if the original number and the reversed number are the same\n",
    "    if original_number == reversed_number:\n",
    "        return True\n",
    "    else:\n",
    "        return False\n",
    "\n",
    "\n",
    "num = int(input(\"Enter a number: \"))\n",
    "if is_palindrome(num):\n",
    "    print(num, \"is a palindrome.\")\n",
    "else:\n",
    "    print(num, \"is not a palindrome.\")\n"
   ]
  },
  {
   "cell_type": "code",
   "execution_count": 13,
   "id": "1aeaf170-9996-4e2e-bfa1-1674d40f6f65",
   "metadata": {},
   "outputs": [
    {
     "name": "stdout",
     "output_type": "stream",
     "text": [
      "[1, 2, 3, 4, 5, 6, 7, 8, 9, 10, 11, 12, 13, 14, 15, 16, 17, 18, 19, 20, 21, 22, 23, 24, 25, 26, 27, 28, 29, 30, 31, 32, 33, 34, 35, 36, 37, 38, 39, 40, 41, 42, 43, 44, 45, 46, 47, 48, 49, 50, 51, 52, 53, 54, 55, 56, 57, 58, 59, 60, 61, 62, 63, 64, 65, 66, 67, 68, 69, 70, 71, 72, 73, 74, 75, 76, 77, 78, 79, 80, 81, 82, 83, 84, 85, 86, 87, 88, 89, 90, 91, 92, 93, 94, 95, 96, 97, 98, 99, 100]\n"
     ]
    }
   ],
   "source": [
    "L = list(x for x in range(1,101))\n",
    "print(L)"
   ]
  },
  {
   "cell_type": "code",
   "execution_count": 20,
   "id": "9e1f45f5-3053-4596-8466-08b489a34de3",
   "metadata": {},
   "outputs": [],
   "source": [
    "L1 = list(x for x in L if x%2 !=0)"
   ]
  },
  {
   "cell_type": "code",
   "execution_count": 21,
   "id": "4bd49a97-7c69-44bd-ab1b-7d79324a7537",
   "metadata": {},
   "outputs": [
    {
     "name": "stdout",
     "output_type": "stream",
     "text": [
      "[1, 3, 5, 7, 9, 11, 13, 15, 17, 19, 21, 23, 25, 27, 29, 31, 33, 35, 37, 39, 41, 43, 45, 47, 49, 51, 53, 55, 57, 59, 61, 63, 65, 67, 69, 71, 73, 75, 77, 79, 81, 83, 85, 87, 89, 91, 93, 95, 97, 99]\n"
     ]
    }
   ],
   "source": [
    "print(L1)"
   ]
  },
  {
   "cell_type": "code",
   "execution_count": null,
   "id": "6328e47e-a606-438b-90b6-9921d75e7f6c",
   "metadata": {},
   "outputs": [],
   "source": []
  }
 ],
 "metadata": {
  "kernelspec": {
   "display_name": "Python 3 (ipykernel)",
   "language": "python",
   "name": "python3"
  },
  "language_info": {
   "codemirror_mode": {
    "name": "ipython",
    "version": 3
   },
   "file_extension": ".py",
   "mimetype": "text/x-python",
   "name": "python",
   "nbconvert_exporter": "python",
   "pygments_lexer": "ipython3",
   "version": "3.10.8"
  }
 },
 "nbformat": 4,
 "nbformat_minor": 5
}
