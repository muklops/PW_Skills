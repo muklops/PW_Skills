{
 "cells": [
  {
   "cell_type": "markdown",
   "id": "837ffad3-83e3-448e-a3a2-5501a087532a",
   "metadata": {},
   "source": [
    "#Q1. Explain Class and Object with respect to Object-Oriented Programming. Give a suitable example.\n",
    "Class is the real world entity and object is specified real world entity.\n",
    "eg- Human is Class but male or female is object since it has its own properities to distinguise."
   ]
  },
  {
   "cell_type": "markdown",
   "id": "5de949b2-abb2-47db-956e-c3909fcab0ab",
   "metadata": {},
   "source": [
    "Q2. Name the four pillars of OOPs.\n",
    "Polymorphism, Inheritance, Encapsulation, Abstraction"
   ]
  },
  {
   "cell_type": "markdown",
   "id": "b59167af-30d6-4832-9149-c1c8de1cb21f",
   "metadata": {},
   "source": [
    "#Q3. Explain why the __init__() function is used. Give a suitable example.\n",
    "# __INIT__ () -- This is also know as construtor , it is used to define the initial state of the object.\n",
    "It takes argumnets and input."
   ]
  },
  {
   "cell_type": "code",
   "execution_count": 2,
   "id": "bd482d18-da21-46a8-80b2-f59042113b60",
   "metadata": {},
   "outputs": [],
   "source": [
    "#Example\n",
    "\n",
    "class human:\n",
    "    def __init__(self,sex,height,complex):\n",
    "        self.sex1 = sex\n",
    "        self.height1 = height\n",
    "        self.complex1 = complex\n",
    "    "
   ]
  },
  {
   "cell_type": "markdown",
   "id": "80db5a87-247b-40da-8a6b-70fc18332042",
   "metadata": {},
   "source": [
    "Q4. Why self is used in OOPs?\n",
    "\n",
    "This is used to point to the class."
   ]
  },
  {
   "cell_type": "markdown",
   "id": "51f4f8a5-85e0-469c-8b86-69a429c07345",
   "metadata": {},
   "source": [
    "#Q5. What is inheritance? Give an example for each type of inheritance.\n",
    "Inheritance- It means copying the propierties of its parent class.\n",
    "Eg- Parent-child or one-one inheritane, multiple inheritance,multilevel inheritance"
   ]
  },
  {
   "cell_type": "code",
   "execution_count": null,
   "id": "742fa649-6a7f-4660-b45b-e1d7f4536bd0",
   "metadata": {},
   "outputs": [],
   "source": []
  }
 ],
 "metadata": {
  "kernelspec": {
   "display_name": "Python 3 (ipykernel)",
   "language": "python",
   "name": "python3"
  },
  "language_info": {
   "codemirror_mode": {
    "name": "ipython",
    "version": 3
   },
   "file_extension": ".py",
   "mimetype": "text/x-python",
   "name": "python",
   "nbconvert_exporter": "python",
   "pygments_lexer": "ipython3",
   "version": "3.10.8"
  }
 },
 "nbformat": 4,
 "nbformat_minor": 5
}
