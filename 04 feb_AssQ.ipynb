{
 "cells": [
  {
   "cell_type": "code",
   "execution_count": 68,
   "id": "5dcbfcfb-e718-46cd-8cb6-52ec3b1c95bd",
   "metadata": {},
   "outputs": [
    {
     "name": "stdout",
     "output_type": "stream",
     "text": [
      "('Virat Kohli', 24936)\n",
      "('Jack Kallis', 25534)\n",
      "('Ricky Ponting', 27483)\n",
      "('Sachin Tendulkar', 34357)\n"
     ]
    }
   ],
   "source": [
    "L = [('Sachin Tendulkar', 34357), ('Ricky Ponting', 27483), ('Jack Kallis', 25534), ('Virat Kohli', 24936)]\n",
    "\n",
    "sorted_data = sorted(data, key=lambda x: x[1])\n",
    "\n",
    "for item in sorted_data:\n",
    "    print(item)\n"
   ]
  },
  {
   "cell_type": "markdown",
   "id": "13dc7ba2-5940-4621-8da8-3ce55a436c2f",
   "metadata": {},
   "source": [
    "Q2. Write a Python Program to find the squares of all the numbers in the given list of integers using\n",
    "lambda and map functions.\n",
    "[1, 2, 3, 4, 5, 6, 7, 8, 9, 10]"
   ]
  },
  {
   "cell_type": "code",
   "execution_count": 44,
   "id": "4d499e71-fc68-45e8-88e9-e3d46bbdf223",
   "metadata": {},
   "outputs": [],
   "source": [
    "L1=[1, 2, 3, 4, 5, 6, 7, 8, 9, 10]\n",
    "T = list(map(lambda x:x**2,L1))"
   ]
  },
  {
   "cell_type": "code",
   "execution_count": 45,
   "id": "ba4882c7-d10d-4bd1-b877-0a0c6572b93b",
   "metadata": {},
   "outputs": [
    {
     "data": {
      "text/plain": [
       "[1, 4, 9, 16, 25, 36, 49, 64, 81, 100]"
      ]
     },
     "execution_count": 45,
     "metadata": {},
     "output_type": "execute_result"
    }
   ],
   "source": [
    "T"
   ]
  },
  {
   "cell_type": "markdown",
   "id": "fef51f46-8f2c-489a-8639-fe26dd11a61a",
   "metadata": {},
   "source": [
    "Q3. Write a python program to convert the given list of integers into a tuple of strings. Use map and\n",
    "lambda functions\n",
    "Given String: [1, 2, 3, 4, 5, 6, 7, 8, 9, 10]\n",
    "Expected output: ('1', '2', '3', '4', '5', '6', '7', '8', '9', '10')"
   ]
  },
  {
   "cell_type": "code",
   "execution_count": 53,
   "id": "9993763a-10d2-47a3-afb2-ab6a69ea270a",
   "metadata": {},
   "outputs": [],
   "source": [
    "Given_String = [1, 2, 3, 4, 5, 6, 7, 8, 9, 10]\n"
   ]
  },
  {
   "cell_type": "code",
   "execution_count": 62,
   "id": "e20a4cbc-9558-42a3-9aef-727ec840f1e4",
   "metadata": {},
   "outputs": [],
   "source": [
    "T = tuple(map(lambda x:str(x),Given_String))"
   ]
  },
  {
   "cell_type": "code",
   "execution_count": 63,
   "id": "5fffba3b-8e05-4937-9198-6e6f08df9b8c",
   "metadata": {},
   "outputs": [
    {
     "data": {
      "text/plain": [
       "('1', '2', '3', '4', '5', '6', '7', '8', '9', '10')"
      ]
     },
     "execution_count": 63,
     "metadata": {},
     "output_type": "execute_result"
    }
   ],
   "source": [
    "T"
   ]
  },
  {
   "cell_type": "markdown",
   "id": "9c2fe401-a16e-4f25-9ad9-f28d8e94a507",
   "metadata": {},
   "source": [
    "Q4. Write a python program using reduce function to compute the product of a list containing numbers\n",
    "from 1 to 25."
   ]
  },
  {
   "cell_type": "code",
   "execution_count": 64,
   "id": "e075a434-cf1d-483d-8f04-57bbc45c5c24",
   "metadata": {},
   "outputs": [
    {
     "name": "stdout",
     "output_type": "stream",
     "text": [
      "15511210043330985984000000\n"
     ]
    }
   ],
   "source": [
    "from functools import reduce\n",
    "numbers = list(range(1, 26))\n",
    "product = reduce(lambda x, y: x * y, numbers)\n",
    "\n",
    "print(product)\n"
   ]
  },
  {
   "cell_type": "markdown",
   "id": "bf8d9441-6e6e-480e-b622-e76175abb40b",
   "metadata": {},
   "source": [
    "Q5. Write a python program to filter the numbers in a given list that are divisible by 2 and 3 using the\n",
    "filter function.\n",
    "[2, 3, 6, 9, 27, 60, 90, 120, 55, 46]"
   ]
  },
  {
   "cell_type": "code",
   "execution_count": 76,
   "id": "e5c97621-a410-4703-8744-18d36b165eac",
   "metadata": {},
   "outputs": [],
   "source": [
    "L=[2, 3, 6, 9, 27, 60, 90, 120, 55, 46]\n",
    "T= list(filter(lambda x:  x%2==0 or x%3 ==0 ,L))"
   ]
  },
  {
   "cell_type": "code",
   "execution_count": 78,
   "id": "16cf2529-7b10-4308-9a25-acbf9326089f",
   "metadata": {},
   "outputs": [
    {
     "data": {
      "text/plain": [
       "[2, 3, 6, 9, 27, 60, 90, 120, 46]"
      ]
     },
     "execution_count": 78,
     "metadata": {},
     "output_type": "execute_result"
    }
   ],
   "source": [
    "T"
   ]
  },
  {
   "cell_type": "markdown",
   "id": "6658fa2c-74a2-4af1-ac8f-f828b139eb75",
   "metadata": {},
   "source": [
    "Q6. Write a python program to find palindromes in the given list of strings using lambda and filter\n",
    "function.\n",
    "['python', 'php', 'aba', 'radar', 'level']"
   ]
  },
  {
   "cell_type": "code",
   "execution_count": 83,
   "id": "9c58c62d-133e-4b81-b52c-8dce0f4c1a56",
   "metadata": {},
   "outputs": [],
   "source": [
    "W= ['python', 'php', 'aba', 'radar', 'level']\n",
    "T = list(filter(lambda x: x == x[::-1],W))"
   ]
  },
  {
   "cell_type": "code",
   "execution_count": 84,
   "id": "4993886c-0c2e-472c-92ee-1516777fa8eb",
   "metadata": {},
   "outputs": [
    {
     "name": "stdout",
     "output_type": "stream",
     "text": [
      "['php', 'aba', 'radar', 'level']\n"
     ]
    }
   ],
   "source": [
    "print(T)"
   ]
  },
  {
   "cell_type": "code",
   "execution_count": null,
   "id": "0a708564-92ca-4ee1-84b0-a0400a513933",
   "metadata": {},
   "outputs": [],
   "source": []
  }
 ],
 "metadata": {
  "kernelspec": {
   "display_name": "Python 3 (ipykernel)",
   "language": "python",
   "name": "python3"
  },
  "language_info": {
   "codemirror_mode": {
    "name": "ipython",
    "version": 3
   },
   "file_extension": ".py",
   "mimetype": "text/x-python",
   "name": "python",
   "nbconvert_exporter": "python",
   "pygments_lexer": "ipython3",
   "version": "3.10.8"
  }
 },
 "nbformat": 4,
 "nbformat_minor": 5
}
