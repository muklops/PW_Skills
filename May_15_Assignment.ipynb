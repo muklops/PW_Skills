{
 "cells": [
  {
   "cell_type": "code",
   "execution_count": null,
   "id": "854ec573-9446-4e6c-9460-88619b4cc829",
   "metadata": {},
   "outputs": [],
   "source": [
    "Q1. How do you comment code in Python? What are the different types of comments?\n",
    "put # or \"\"\" or ''' (In case of multiple lines comments)"
   ]
  },
  {
   "cell_type": "code",
   "execution_count": null,
   "id": "e972b127-32bc-45c8-83d9-87c98ed5a810",
   "metadata": {},
   "outputs": [],
   "source": [
    "Q2. What are variables in Python? How do you declare and assign values to variables?\n",
    "They are temperopry assignments,which store values of various data types.eg- string, number, Lists etc.\n",
    "eg- a=23, a is variable, 23 is value."
   ]
  },
  {
   "cell_type": "code",
   "execution_count": null,
   "id": "6ee0a7b8-7e73-4ea8-83f7-d9f606c42080",
   "metadata": {},
   "outputs": [],
   "source": [
    " Q3.How do you convert one data type to another in Python?\n",
    "   Using type casting method eg- int(\"20\")-to convert to integer, str(30)- to convert integer to string. "
   ]
  },
  {
   "cell_type": "code",
   "execution_count": 7,
   "id": "6b4fcbe3-5e4f-41a3-9667-8152b1fab2f6",
   "metadata": {},
   "outputs": [],
   "source": [
    " Q4. How do you write and execute a Python script from the command line?\n",
    " Write a code and press Shift+Enter or use run icon from the ide interface."
   ]
  },
  {
   "cell_type": "code",
   "execution_count": 11,
   "id": "5c11d554-d15f-42ff-95b4-665b9c572edb",
   "metadata": {},
   "outputs": [
    {
     "name": "stdout",
     "output_type": "stream",
     "text": [
      "[2, 3]\n"
     ]
    }
   ],
   "source": [
    "#Q5. Given a list my_list = [1, 2, 3, 4, 5], write the code to slice the list and obtain the sub-list [2, 3]\n",
    "my_list = [1, 2, 3, 4, 5]\n",
    "Y=list(my_list[1:3])\n",
    "print(Y)"
   ]
  },
  {
   "cell_type": "code",
   "execution_count": null,
   "id": "14734207-3539-417c-9158-904b71adc22b",
   "metadata": {},
   "outputs": [],
   "source": [
    "#Q6. What is a complex number in mathematics, and how is it represented in Python?\n",
    "Ans- a+bi is called complex no in math, where a is real number and b is imaginary number.\n",
    "eg- 4+5i- 4 is real and 5 is imaginary. i is the imaginary unit defined as the square root of -1.\n",
    "In python it is represented as 4+5j, J represents imaginary unit."
   ]
  },
  {
   "cell_type": "code",
   "execution_count": null,
   "id": "88a6d143-364b-488f-ad17-fb1e72c5ad0e",
   "metadata": {},
   "outputs": [],
   "source": [
    "#7. What is the correct way to declare a variable named age and assign the value 25 to it?\n",
    "age=25"
   ]
  },
  {
   "cell_type": "code",
   "execution_count": 20,
   "id": "2363e93b-21f4-4662-89a8-bfe757b155b6",
   "metadata": {},
   "outputs": [
    {
     "data": {
      "text/plain": [
       "float"
      ]
     },
     "execution_count": 20,
     "metadata": {},
     "output_type": "execute_result"
    }
   ],
   "source": [
    "#8. Declare a variable named price and assign the value 9.99 to it. What data type does this variable \n",
    "#belong to?\n",
    "price=9.99\n",
    "type(price)\n"
   ]
  },
  {
   "cell_type": "code",
   "execution_count": 24,
   "id": "6e4a003e-7342-4483-899e-fbe1f115d80a",
   "metadata": {},
   "outputs": [
    {
     "name": "stdout",
     "output_type": "stream",
     "text": [
      "Mukesh Kumar\n"
     ]
    }
   ],
   "source": [
    "#9. Create a variable named name and assign your full name to it as a string. How would you print the \n",
    "#value of this variable?\n",
    "name=\"Mukesh Kumar\"\n",
    "print(name)"
   ]
  },
  {
   "cell_type": "code",
   "execution_count": 25,
   "id": "fa53bcd8-b62e-4a94-a04f-8d037019e53e",
   "metadata": {},
   "outputs": [
    {
     "data": {
      "text/plain": [
       "'World'"
      ]
     },
     "execution_count": 25,
     "metadata": {},
     "output_type": "execute_result"
    }
   ],
   "source": [
    "#Q10. Given the string \"Hello, World!\", extract the substring \"World\".\n",
    "s=\"Hello World\"\n",
    "s[6:11]\n"
   ]
  },
  {
   "cell_type": "code",
   "execution_count": 28,
   "id": "d4ded81f-7a97-4187-b407-1f5b08fb900b",
   "metadata": {},
   "outputs": [],
   "source": [
    "#11. Create a variable named \"is_student\" and assign it a boolean value indicating whether you are  \n",
    "#currently a student or not.\n",
    "is_student=True"
   ]
  },
  {
   "cell_type": "code",
   "execution_count": 29,
   "id": "788d82f6-052a-4089-87cc-e83d2ca07eaf",
   "metadata": {},
   "outputs": [
    {
     "data": {
      "text/plain": [
       "bool"
      ]
     },
     "execution_count": 29,
     "metadata": {},
     "output_type": "execute_result"
    }
   ],
   "source": [
    "type(is_student)"
   ]
  },
  {
   "cell_type": "code",
   "execution_count": null,
   "id": "38a97651-bc28-439f-a412-a5118447134c",
   "metadata": {},
   "outputs": [],
   "source": []
  }
 ],
 "metadata": {
  "kernelspec": {
   "display_name": "Python 3 (ipykernel)",
   "language": "python",
   "name": "python3"
  },
  "language_info": {
   "codemirror_mode": {
    "name": "ipython",
    "version": 3
   },
   "file_extension": ".py",
   "mimetype": "text/x-python",
   "name": "python",
   "nbconvert_exporter": "python",
   "pygments_lexer": "ipython3",
   "version": "3.10.8"
  }
 },
 "nbformat": 4,
 "nbformat_minor": 5
}
