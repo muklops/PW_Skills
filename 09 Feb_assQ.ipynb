{
 "cells": [
  {
   "cell_type": "code",
   "execution_count": 1,
   "id": "72d074be-20b7-44cd-a4b8-6326cdaa1ce5",
   "metadata": {},
   "outputs": [],
   "source": [
    "#Q1.Create a vehicle class with an init method having instance variables as name_of_vehicle, max_speed and #average_of_vehicle.\n",
    "\n",
    "class vechile:\n",
    "    def __init__(self,Vechile_name,max_speed,avg_speed):\n",
    "        self.Vechile_name1 = Vechile_name\n",
    "        self.max_speed1 = max_speed\n",
    "        self.avg_speed1 = avg_speed\n",
    "        \n",
    "    def car_wala(self):\n",
    "        return self.Vechile_name1, self.max_speed1, self.avg_speed1"
   ]
  },
  {
   "cell_type": "code",
   "execution_count": 27,
   "id": "a3a60440-767d-4f56-9157-b83d1b8f59a1",
   "metadata": {},
   "outputs": [],
   "source": [
    "\"\"\"Q2. Create a child class car from the vehicle class created in Que 1, which will inherit the vehicle class.\n",
    "Create a method named seating_capacity which takes capacity as an argument and returns the name of\n",
    "the vehicle and its seating capacity.\"\"\"\n",
    "# PLEASE HELP ME OUT TO SOLVE THE Q2, ITS THROWING THE BELOW ERROR\n",
    "\n",
    "\n",
    "class car(vechile):\n",
    "    def __init__(self,capacity):\n",
    "        self.capacity1 = capacity\n",
    "    def seating(self):\n",
    "        return self.capacity1,self.Vechile_name1\n"
   ]
  },
  {
   "cell_type": "code",
   "execution_count": 28,
   "id": "c2b756e4-5308-42a7-87f2-4a8f02d47044",
   "metadata": {},
   "outputs": [],
   "source": [
    "T= car(23)\n"
   ]
  },
  {
   "cell_type": "code",
   "execution_count": 29,
   "id": "41d27250-10ba-4f22-8c3f-facd2c34cc9b",
   "metadata": {},
   "outputs": [
    {
     "ename": "AttributeError",
     "evalue": "'car' object has no attribute 'Vechile_name1'",
     "output_type": "error",
     "traceback": [
      "\u001b[0;31m---------------------------------------------------------------------------\u001b[0m",
      "\u001b[0;31mAttributeError\u001b[0m                            Traceback (most recent call last)",
      "Cell \u001b[0;32mIn[29], line 1\u001b[0m\n\u001b[0;32m----> 1\u001b[0m \u001b[43mT\u001b[49m\u001b[38;5;241;43m.\u001b[39;49m\u001b[43mseating\u001b[49m\u001b[43m(\u001b[49m\u001b[43m)\u001b[49m\n",
      "Cell \u001b[0;32mIn[27], line 5\u001b[0m, in \u001b[0;36mcar.seating\u001b[0;34m(self)\u001b[0m\n\u001b[1;32m      4\u001b[0m \u001b[38;5;28;01mdef\u001b[39;00m \u001b[38;5;21mseating\u001b[39m(\u001b[38;5;28mself\u001b[39m):\n\u001b[0;32m----> 5\u001b[0m     \u001b[38;5;28;01mreturn\u001b[39;00m \u001b[38;5;28mself\u001b[39m\u001b[38;5;241m.\u001b[39mcapacity1,\u001b[38;5;28;43mself\u001b[39;49m\u001b[38;5;241;43m.\u001b[39;49m\u001b[43mVechile_name1\u001b[49m\n",
      "\u001b[0;31mAttributeError\u001b[0m: 'car' object has no attribute 'Vechile_name1'"
     ]
    }
   ],
   "source": [
    "T.seating()"
   ]
  },
  {
   "cell_type": "code",
   "execution_count": 43,
   "id": "d02a81ae-1f80-45af-975b-400b4862cbb3",
   "metadata": {},
   "outputs": [],
   "source": [
    "class class1:\n",
    "    def test1():\n",
    "        return \"class1 data\""
   ]
  },
  {
   "cell_type": "code",
   "execution_count": 44,
   "id": "e9607991-2b3a-4cee-bf3a-209ab235419e",
   "metadata": {},
   "outputs": [],
   "source": [
    "class class2(class1):\n",
    "    def test2():\n",
    "        return \"class2 data\""
   ]
  },
  {
   "cell_type": "code",
   "execution_count": 45,
   "id": "a608c9c4-f9b9-44e2-91e5-8a4cb360cc5d",
   "metadata": {},
   "outputs": [],
   "source": [
    "class class3(class2):\n",
    "    def test3():\n",
    "        return \"class3 data\""
   ]
  },
  {
   "cell_type": "code",
   "execution_count": 46,
   "id": "65439f88-07a6-44c1-a968-41226c9e1c35",
   "metadata": {},
   "outputs": [],
   "source": [
    "D = class3"
   ]
  },
  {
   "cell_type": "code",
   "execution_count": 47,
   "id": "71d1bab3-6edc-4d60-a5fa-41c769e43247",
   "metadata": {},
   "outputs": [
    {
     "data": {
      "text/plain": [
       "'class1 data'"
      ]
     },
     "execution_count": 47,
     "metadata": {},
     "output_type": "execute_result"
    }
   ],
   "source": [
    "D.test1()"
   ]
  },
  {
   "cell_type": "code",
   "execution_count": 79,
   "id": "dba69dd5-9ce1-454c-9fb1-030fea34d623",
   "metadata": {},
   "outputs": [],
   "source": [
    "\"\"\"Q4. What are getter and setter in python? Create a class and create a getter and a setter method in this\n",
    "class.\"\"\"\n",
    "\n",
    "class person:\n",
    "    def __init__(self,name,age,sex):\n",
    "        self.__name1 = name\n",
    "        self.__age1 = age\n",
    "        self.__sex1 = sex\n",
    "    def set_age(self,age):\n",
    "        self.__age = age\n",
    "    def get_age(self):\n",
    "        return self.__age"
   ]
  },
  {
   "cell_type": "code",
   "execution_count": 80,
   "id": "92073024-f83e-4512-928c-3d24f6779a3f",
   "metadata": {},
   "outputs": [],
   "source": [
    "T = person(\"mk\",30,\"male\")"
   ]
  },
  {
   "cell_type": "code",
   "execution_count": 81,
   "id": "3266e8ca-6deb-4936-8874-c1bd6a6c2652",
   "metadata": {},
   "outputs": [
    {
     "data": {
      "text/plain": [
       "30"
      ]
     },
     "execution_count": 81,
     "metadata": {},
     "output_type": "execute_result"
    }
   ],
   "source": [
    "T._person__age1"
   ]
  },
  {
   "cell_type": "code",
   "execution_count": 82,
   "id": "fc371c24-5ccf-45b9-94cf-38b07d830ec5",
   "metadata": {},
   "outputs": [],
   "source": [
    "T.set_age(20)"
   ]
  },
  {
   "cell_type": "code",
   "execution_count": 83,
   "id": "002f15ce-bb05-47ee-8cea-f9ee961670ec",
   "metadata": {},
   "outputs": [
    {
     "data": {
      "text/plain": [
       "20"
      ]
     },
     "execution_count": 83,
     "metadata": {},
     "output_type": "execute_result"
    }
   ],
   "source": [
    "T.get_age()"
   ]
  },
  {
   "cell_type": "code",
   "execution_count": 84,
   "id": "01ae5307-0ffa-4708-9469-d62b92708847",
   "metadata": {},
   "outputs": [],
   "source": [
    "\"\"\"Q5.What is method overriding in python? Write a python code to demonstrate method overriding.\"\"\"\n",
    "\n",
    "\"\"\" This overrides or changes the behaviour of the variable or object as per requirement\"\"\"\n",
    "\n",
    "class test1:\n",
    "    def T1(self):\n",
    "        return \"This is Test1\"\n",
    "    \n",
    "class test2:\n",
    "    def T2(test1):\n",
    "        return \"this is test2\"\n",
    "class test3:\n",
    "    def T3(test2):\n",
    "        return \"this is test3\""
   ]
  },
  {
   "cell_type": "code",
   "execution_count": 87,
   "id": "09bdc582-ec72-4aa7-a5bf-42b44307171a",
   "metadata": {},
   "outputs": [],
   "source": [
    "W = test3()"
   ]
  },
  {
   "cell_type": "code",
   "execution_count": 90,
   "id": "2269280c-9d2d-4860-ba7e-4aa9f2b3cfe1",
   "metadata": {},
   "outputs": [
    {
     "data": {
      "text/plain": [
       "'this is test3'"
      ]
     },
     "execution_count": 90,
     "metadata": {},
     "output_type": "execute_result"
    }
   ],
   "source": [
    "W.T3()\n"
   ]
  },
  {
   "cell_type": "code",
   "execution_count": 91,
   "id": "f8847e03-bb53-43fe-a572-710f79ca2507",
   "metadata": {},
   "outputs": [],
   "source": [
    "E= test1()"
   ]
  },
  {
   "cell_type": "code",
   "execution_count": 93,
   "id": "39acc7b7-ec2a-4938-b69c-d9a6d00bc315",
   "metadata": {},
   "outputs": [
    {
     "data": {
      "text/plain": [
       "'This is Test1'"
      ]
     },
     "execution_count": 93,
     "metadata": {},
     "output_type": "execute_result"
    }
   ],
   "source": [
    "E.T1()"
   ]
  },
  {
   "cell_type": "code",
   "execution_count": null,
   "id": "1da204db-31aa-4cb1-8a33-e80a33770de6",
   "metadata": {},
   "outputs": [],
   "source": []
  }
 ],
 "metadata": {
  "kernelspec": {
   "display_name": "Python 3 (ipykernel)",
   "language": "python",
   "name": "python3"
  },
  "language_info": {
   "codemirror_mode": {
    "name": "ipython",
    "version": 3
   },
   "file_extension": ".py",
   "mimetype": "text/x-python",
   "name": "python",
   "nbconvert_exporter": "python",
   "pygments_lexer": "ipython3",
   "version": "3.10.8"
  }
 },
 "nbformat": 4,
 "nbformat_minor": 5
}
