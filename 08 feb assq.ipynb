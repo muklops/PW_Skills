{
 "cells": [
  {
   "cell_type": "markdown",
   "id": "5288fb5b-4133-47ab-b23a-64168b301b5c",
   "metadata": {},
   "source": [
    "#Q1. What is Abstraction in OOps? Explain with an example.\n",
    "Abstraction is creation of blue print class and this can be used again and again in another modules or functions. \n",
    "Eg- CAr is class and then it may have certain varities."
   ]
  },
  {
   "cell_type": "markdown",
   "id": "2f8b1e2c-aafc-4291-8232-01fcc0afa280",
   "metadata": {},
   "source": [
    "#Q2 Differentiate between Abstraction and Encapsulation. Explain with an example.\n",
    "abstraction focuses on identifying the essential characteristics and behaviors of objects and providing a higher-level view, while encapsulation involves bundling data and methods together within a class and controlling access to the data."
   ]
  },
  {
   "cell_type": "markdown",
   "id": "5445c905-ff6e-4be2-a0ad-ec38a5cbf48a",
   "metadata": {},
   "source": [
    "Q3. What is abc module in python? Why is it used?\n",
    "The abc module in Python stands for \"Abstract Base Classes.\" It is a built-in module that provides mechanisms for defining abstract base classes in Python.\n",
    "By using abstract base classes, you can ensure that certain methods or attributes are implemented in all the subclasses, enforcing a specific contract or behavior."
   ]
  },
  {
   "cell_type": "markdown",
   "id": "9b6d371d-38fe-42df-8db7-f1a9a0136194",
   "metadata": {},
   "source": [
    "Q4. How can we achieve data abstraction?\n",
    "In Python, data abstraction can be achieved through the use of classes, specifically by defining class methods and instance methods that provide an interface to access and manipulate the underlying data"
   ]
  },
  {
   "cell_type": "markdown",
   "id": "60d4c8be-aa68-44d1-bdb3-e3560d6602b9",
   "metadata": {},
   "source": [
    "Q5. Can we create an instance of an abstract class? Explain your answer.\n",
    "No, we cannot create an instance of an abstract class in Python. An abstract class is a class that is meant to be inherited by other classes and cannot be instantiated directly.\n"
   ]
  }
 ],
 "metadata": {
  "kernelspec": {
   "display_name": "Python 3 (ipykernel)",
   "language": "python",
   "name": "python3"
  },
  "language_info": {
   "codemirror_mode": {
    "name": "ipython",
    "version": 3
   },
   "file_extension": ".py",
   "mimetype": "text/x-python",
   "name": "python",
   "nbconvert_exporter": "python",
   "pygments_lexer": "ipython3",
   "version": "3.10.8"
  }
 },
 "nbformat": 4,
 "nbformat_minor": 5
}
