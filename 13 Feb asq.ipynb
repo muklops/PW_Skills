{
 "cells": [
  {
   "cell_type": "markdown",
   "id": "ce8e13d6-aee9-4553-b66b-453e6daca3ef",
   "metadata": {},
   "source": [
    "1)Explain why we have to use the Exception class while creating a Custom Exception.\n",
    "Ans- Beause it is predefined, hence its easy and simple to call."
   ]
  },
  {
   "cell_type": "code",
   "execution_count": null,
   "id": "d69f73c6-649a-4966-bdc3-b0930af39c98",
   "metadata": {},
   "outputs": [],
   "source": [
    "#Q2. Write a python program to print Python Exception Hierarchy.\n"
   ]
  },
  {
   "cell_type": "code",
   "execution_count": null,
   "id": "4d427038-8432-44af-9000-33586faa59f5",
   "metadata": {},
   "outputs": [],
   "source": [
    "#Q3. What errors are defined in the ArithmeticError class? Explain any two with an example.\n",
    "It represents errors that occur during numerical computations. Some commonly used exceptions derived from the ArithmeticError class include FloatingPointError, OverflowError, and ZeroDivisionError\n",
    "try:\n",
    "    result = 1.0 / 0.0\n",
    "except FloatingPointError as e:\n",
    "    print(\"Error:\", e)\n"
   ]
  },
  {
   "cell_type": "code",
   "execution_count": null,
   "id": "4ffd26fd-82d6-4163-b729-3377bb09ecc1",
   "metadata": {},
   "outputs": [],
   "source": [
    "Q.4- The LookupError class is used as a base class for exceptions related to lookup operations. It represents errors that occur when attempting to access elements or values that cannot be found. Two commonly used exceptions derived from the LookupError class are KeyError and IndexError\n",
    "my_list = [1, 2, 3]\n",
    "try:\n",
    "    value = my_list[3]\n",
    "except IndexError as e:\n",
    "    print(\"Error:\", e)\n"
   ]
  },
  {
   "cell_type": "markdown",
   "id": "61f219ec-7e9f-4da1-af70-e2090136b901",
   "metadata": {},
   "source": [
    "Q5-ImportError: This exception is raised when an import statement fails to import a module or encounters an error related to importing. \n",
    "ModuleNotFoundError: This exception is a subclass of ImportError and is specifically raised when an import statement fails to locate and import a module that doesn't exist."
   ]
  },
  {
   "cell_type": "markdown",
   "id": "13517ea2-3c94-4ea0-ada7-6acbdaf748c9",
   "metadata": {},
   "source": [
    "Q6. List down some best practices for exception handling in python.\n",
    "Be Specific in Exception Handling: Catch specific exceptions rather than using a broad except statement. This allows you to handle different exceptions differently and provides more clarity in your code. Avoid using a blanket except Exception statement unless necessary.\n",
    "\n",
    "Use Multiple Except Blocks: When handling multiple exceptions, use separate except blocks for each exception. This allows you to handle exceptions specifically based on their types and provides more focused error handling.\n",
    "\n",
    "Avoid Empty Except Blocks: Empty except blocks can hide errors and make it difficult to debug or understand the code. Always include meaningful error handling logic or at least print/log the exception information to aid in troubleshooting.\n",
    "\n",
    "Use Finally Block: The finally block is executed regardless of whether an exception occurred or not. Use it to perform cleanup tasks such as closing files, releasing resources, or finalizing operations that should always be performed."
   ]
  }
 ],
 "metadata": {
  "kernelspec": {
   "display_name": "Python 3 (ipykernel)",
   "language": "python",
   "name": "python3"
  },
  "language_info": {
   "codemirror_mode": {
    "name": "ipython",
    "version": 3
   },
   "file_extension": ".py",
   "mimetype": "text/x-python",
   "name": "python",
   "nbconvert_exporter": "python",
   "pygments_lexer": "ipython3",
   "version": "3.10.8"
  }
 },
 "nbformat": 4,
 "nbformat_minor": 5
}
